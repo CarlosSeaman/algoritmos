{
  "nbformat": 4,
  "nbformat_minor": 0,
  "metadata": {
    "colab": {
      "provenance": [],
      "authorship_tag": "ABX9TyM+R6sHv7ijsSXjg/jl/f3B",
      "include_colab_link": true
    },
    "kernelspec": {
      "name": "python3",
      "display_name": "Python 3"
    },
    "language_info": {
      "name": "python"
    }
  },
  "cells": [
    {
      "cell_type": "markdown",
      "metadata": {
        "id": "view-in-github",
        "colab_type": "text"
      },
      "source": [
        "<a href=\"https://colab.research.google.com/github/CarlosSeaman/algoritmos/blob/main/Untitled0.ipynb\" target=\"_parent\"><img src=\"https://colab.research.google.com/assets/colab-badge.svg\" alt=\"Open In Colab\"/></a>"
      ]
    },
    {
      "cell_type": "code",
      "execution_count": null,
      "metadata": {
        "id": "OjQznP7fsBX6",
        "outputId": "b173208f-4619-4dc5-c722-dcebd087958b",
        "colab": {
          "base_uri": "https://localhost:8080/"
        }
      },
      "outputs": [
        {
          "output_type": "stream",
          "name": "stdout",
          "text": [
            "-----------------\n",
            "r n b q k b n r \n",
            "p p p p p p p p \n",
            ". . . . . . . . \n",
            ". . . . . . . . \n",
            ". . . . . . . . \n",
            ". . . . . . . . \n",
            "P P P P P P P P \n",
            "R N B Q K B N R \n",
            "-----------------\n",
            "Turno del jugador white\n",
            "Ingrese la posición inicial de la pieza: a1\n",
            "Ingrese la posición final: d1\n",
            "-----------------\n",
            "r n b q k b n r \n",
            "p p p p p p p p \n",
            ". . . . . . . . \n",
            ". . . . . . . . \n",
            ". . . . . . . . \n",
            ". . . . . . . . \n",
            "P P P P P P P P \n",
            ". N B R K B N R \n",
            "-----------------\n",
            "Turno del jugador black\n"
          ]
        }
      ],
      "source": [
        "class ChessGame:\n",
        "    def __init__(self):\n",
        "        self.board = self.create_board()\n",
        "        self.current_player = \"white\"\n",
        "        self.game_over = False\n",
        "\n",
        "    def create_board(self):\n",
        "        board = {}\n",
        "        # Configurar tablero vacío\n",
        "        for row in range(1, 9):\n",
        "            for col in \"abcdefgh\":\n",
        "                board[col + str(row)] = None\n",
        "        # Configurar piezas blancas\n",
        "        board[\"a1\"] = \"R\"\n",
        "        board[\"b1\"] = \"N\"\n",
        "        board[\"c1\"] = \"B\"\n",
        "        board[\"d1\"] = \"Q\"\n",
        "        board[\"e1\"] = \"K\"\n",
        "        board[\"f1\"] = \"B\"\n",
        "        board[\"g1\"] = \"N\"\n",
        "        board[\"h1\"] = \"R\"\n",
        "        board[\"a2\"] = \"P\"\n",
        "        board[\"b2\"] = \"P\"\n",
        "        board[\"c2\"] = \"P\"\n",
        "        board[\"d2\"] = \"P\"\n",
        "        board[\"e2\"] = \"P\"\n",
        "        board[\"f2\"] = \"P\"\n",
        "        board[\"g2\"] = \"P\"\n",
        "        board[\"h2\"] = \"P\"\n",
        "        # Configurar piezas negras\n",
        "        board[\"a8\"] = \"r\"\n",
        "        board[\"b8\"] = \"n\"\n",
        "        board[\"c8\"] = \"b\"\n",
        "        board[\"d8\"] = \"q\"\n",
        "        board[\"e8\"] = \"k\"\n",
        "        board[\"f8\"] = \"b\"\n",
        "        board[\"g8\"] = \"n\"\n",
        "        board[\"h8\"] = \"r\"\n",
        "        board[\"a7\"] = \"p\"\n",
        "        board[\"b7\"] = \"p\"\n",
        "        board[\"c7\"] = \"p\"\n",
        "        board[\"d7\"] = \"p\"\n",
        "        board[\"e7\"] = \"p\"\n",
        "        board[\"f7\"] = \"p\"\n",
        "        board[\"g7\"] = \"p\"\n",
        "        board[\"h7\"] = \"p\"\n",
        "        return board\n",
        "\n",
        "    def print_board(self):\n",
        "        print(\"-----------------\")\n",
        "        for row in range(8, 0, -1):\n",
        "            for col in \"abcdefgh\":\n",
        "                piece = self.board[col + str(row)]\n",
        "                if piece:\n",
        "                    print(piece, end=\" \")\n",
        "                else:\n",
        "                    print(\".\", end=\" \")\n",
        "            print()\n",
        "        print(\"-----------------\")\n",
        "\n",
        "    def make_move(self, start, end):\n",
        "        piece = self.board[start]\n",
        "        if piece:\n",
        "            self.board[end] = piece\n",
        "            self.board[start] = None\n",
        "            self.current_player = \"black\" if self.current_player == \"white\" else \"white\"\n",
        "        else:\n",
        "            print(\"No hay pieza en esa posición.\")\n",
        "\n",
        "    def play(self):\n",
        "        while not self.game_over:\n",
        "            self.print_board()\n",
        "            print(\"Turno del jugador\", self.current_player)\n",
        "            start = input(\"Ingrese la posición inicial de la pieza: \")\n",
        "            end = input(\"Ingrese la posición final: \")\n",
        "            self.make_move(start, end)\n",
        "\n",
        "\n",
        "# Crear una instancia del juego y jugar\n",
        "game = ChessGame()\n",
        "game.play()\n"
      ]
    }
  ]
}